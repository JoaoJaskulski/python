{
  "nbformat": 4,
  "nbformat_minor": 0,
  "metadata": {
    "colab": {
      "provenance": [],
      "authorship_tag": "ABX9TyNqd502VrUAgAT+ITtOlY+j",
      "include_colab_link": true
    },
    "kernelspec": {
      "name": "python3",
      "display_name": "Python 3"
    },
    "language_info": {
      "name": "python"
    }
  },
  "cells": [
    {
      "cell_type": "markdown",
      "metadata": {
        "id": "view-in-github",
        "colab_type": "text"
      },
      "source": [
        "<a href=\"https://colab.research.google.com/github/JoaoJaskulski/python/blob/main/aula_pynthon.ipynb\" target=\"_parent\"><img src=\"https://colab.research.google.com/assets/colab-badge.svg\" alt=\"Open In Colab\"/></a>"
      ]
    },
    {
      "cell_type": "markdown",
      "source": [
        "aula 2              12/09"
      ],
      "metadata": {
        "id": "R_6-utramLPM"
      }
    },
    {
      "cell_type": "code",
      "source": [
        "livro_ficcao = 8\n",
        "livro_n_ficcao = 10\n",
        "livro_infantil = 6\n",
        "pontos_rodrigo = livro_ficcao + livro_n_ficcao + livro_infantil\n",
        "print(f\"Os pontos totais do Rodrigo são {pontos_rodrigo}\")\n",
        "pontos_ana=2*livro_ficcao+5*livro_infantil\n",
        "print(f\"Os pontos totais do ana são {pontos_ana}\")\n",
        "pontos_totais=pontos_ana+pontos_rodrigo\n",
        "print(f\"Os pontos totais do ana e rodrigo são {pontos_totais}\")\n",
        "\n",
        "pontos_carlos= 1*livro_ficcao+3*livro_n_ficcao+3*livro_infantil\n",
        "print(f\"Os pontos totais do carlos são {pontos_carlos}\")\n",
        "\n",
        "pontos_totais=pontos_ana+pontos_rodrigo+pontos_carlos\n",
        "print(f\"Os pontos totais do ana,carlos e rodrigo são {pontos_totais}\")"
      ],
      "metadata": {
        "colab": {
          "base_uri": "https://localhost:8080/"
        },
        "id": "IgEv8AUUh9qk",
        "outputId": "977dca13-df36-4b82-8671-3ce6c2489b52"
      },
      "execution_count": 2,
      "outputs": [
        {
          "output_type": "stream",
          "name": "stdout",
          "text": [
            "Os pontos totais do Rodrigo são 24\n",
            "Os pontos totais do ana são 46\n",
            "Os pontos totais do ana e rodrigo são 70\n",
            "Os pontos totais do carlos são 56\n",
            "Os pontos totais do ana,carlos e rodrigo são 126\n"
          ]
        }
      ]
    },
    {
      "cell_type": "markdown",
      "source": [
        "aula 3 19/09"
      ],
      "metadata": {
        "id": "jAaUUPIdl384"
      }
    },
    {
      "cell_type": "code",
      "source": [
        "numero_de_alunos = int(input(\"Digite a quantidade de alunos: \"))\n",
        "numero_de_monitores = int(input(\"Digite a quantidade de monitores: \"))\n",
        "if numero_de_alunos + numero_de_monitores <= 50:\n",
        "  resposta_positiva = \"pode ir\"\n",
        "  resposta_negativa = \"não pode ir\"\n",
        "if numero_de_alunos + numero_de_monitores <= 50:\n",
        " print(resposta_positiva)\n",
        "else:\n",
        " print(resposta_negativa)"
      ],
      "metadata": {
        "id": "FD8bB10gl7T5",
        "outputId": "ae68e524-03b5-4a74-d226-69c9ccddcc0a",
        "colab": {
          "base_uri": "https://localhost:8080/"
        }
      },
      "execution_count": 3,
      "outputs": [
        {
          "output_type": "stream",
          "name": "stdout",
          "text": [
            "Digite a quantidade de alunos: 30\n",
            "Digite a quantidade de monitores: 5\n",
            "pode ir\n"
          ]
        }
      ]
    }
  ]
}