{
  "nbformat": 4,
  "nbformat_minor": 0,
  "metadata": {
    "colab": {
      "provenance": [],
      "authorship_tag": "ABX9TyNx8K8VO2Cavxh8YtnnhdVq",
      "include_colab_link": true
    },
    "kernelspec": {
      "name": "python3",
      "display_name": "Python 3"
    },
    "language_info": {
      "name": "python"
    }
  },
  "cells": [
    {
      "cell_type": "markdown",
      "metadata": {
        "id": "view-in-github",
        "colab_type": "text"
      },
      "source": [
        "<a href=\"https://colab.research.google.com/github/JoaoJaskulski/python/blob/main/aula_pynthon.ipynb\" target=\"_parent\"><img src=\"https://colab.research.google.com/assets/colab-badge.svg\" alt=\"Open In Colab\"/></a>"
      ]
    },
    {
      "cell_type": "markdown",
      "source": [
        "aula 2"
      ],
      "metadata": {
        "id": "0heo2M5zhbmU"
      }
    },
    {
      "cell_type": "code",
      "source": [
        "livro_ficcao = 8\n",
        "livro_n_ficcao = 10\n",
        "livro_infantil = 6\n",
        "pontos_rodrigo = livro_ficcao + livro_n_ficcao + livro_infantil\n",
        "print(f\"Os pontos totais do Rodrigo são {pontos_rodrigo}\")\n",
        "pontos_ana=2*livro_ficcao+5*livro_infantil\n",
        "print(f\"Os pontos totais do ana são {pontos_ana}\")\n",
        "pontos_totais=pontos_ana+pontos_rodrigo\n",
        "print(f\"Os pontos totais do ana e rodrigo são {pontos_totais}\")\n",
        "\n",
        "pontos_carlos= 1*livro_ficcao+3*livro_n_ficcao+3*livro_infantil\n",
        "print(f\"Os pontos totais do carlos são {pontos_carlos}\")\n",
        "\n",
        "pontos_totais=pontos_ana+pontos_rodrigo+pontos_carlos\n",
        "print(f\"Os pontos totais do ana,carlos e rodrigo são {pontos_totais}\")"
      ],
      "metadata": {
        "colab": {
          "base_uri": "https://localhost:8080/"
        },
        "id": "IgEv8AUUh9qk",
        "outputId": "1f8d3333-dd82-4684-e65b-c4d88b37cdf3"
      },
      "execution_count": 10,
      "outputs": [
        {
          "output_type": "stream",
          "name": "stdout",
          "text": [
            "Os pontos totais do Rodrigo são 24\n",
            "Os pontos totais do ana são 46\n",
            "Os pontos totais do ana e rodrigo são 70\n",
            "Os pontos totais do carlos são 56\n",
            "Os pontos totais do ana,carlos e rodrigo são 126\n"
          ]
        }
      ]
    }
  ]
}