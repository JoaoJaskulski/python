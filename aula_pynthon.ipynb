{
  "nbformat": 4,
  "nbformat_minor": 0,
  "metadata": {
    "colab": {
      "provenance": [],
      "authorship_tag": "ABX9TyOO3SdMLX47JeJf5sBjtFWn",
      "include_colab_link": true
    },
    "kernelspec": {
      "name": "python3",
      "display_name": "Python 3"
    },
    "language_info": {
      "name": "python"
    }
  },
  "cells": [
    {
      "cell_type": "markdown",
      "metadata": {
        "id": "view-in-github",
        "colab_type": "text"
      },
      "source": [
        "<a href=\"https://colab.research.google.com/github/JoaoJaskulski/python/blob/main/aula_pynthon.ipynb\" target=\"_parent\"><img src=\"https://colab.research.google.com/assets/colab-badge.svg\" alt=\"Open In Colab\"/></a>"
      ]
    },
    {
      "cell_type": "markdown",
      "source": [
        "aula 2              12/09"
      ],
      "metadata": {
        "id": "R_6-utramLPM"
      }
    },
    {
      "cell_type": "code",
      "source": [
        "livro_ficcao = 8\n",
        "livro_n_ficcao = 10\n",
        "livro_infantil = 6\n",
        "pontos_rodrigo = livro_ficcao + livro_n_ficcao + livro_infantil\n",
        "print(f\"Os pontos totais do Rodrigo são {pontos_rodrigo}\")\n",
        "pontos_ana=2*livro_ficcao+5*livro_infantil\n",
        "print(f\"Os pontos totais do ana são {pontos_ana}\")\n",
        "pontos_totais=pontos_ana+pontos_rodrigo\n",
        "print(f\"Os pontos totais do ana e rodrigo são {pontos_totais}\")\n",
        "\n",
        "pontos_carlos= 1*livro_ficcao+3*livro_n_ficcao+3*livro_infantil\n",
        "print(f\"Os pontos totais do carlos são {pontos_carlos}\")\n",
        "\n",
        "pontos_totais=pontos_ana+pontos_rodrigo+pontos_carlos\n",
        "print(f\"Os pontos totais do ana,carlos e rodrigo são {pontos_totais}\")"
      ],
      "metadata": {
        "colab": {
          "base_uri": "https://localhost:8080/"
        },
        "id": "IgEv8AUUh9qk",
        "outputId": "977dca13-df36-4b82-8671-3ce6c2489b52"
      },
      "execution_count": null,
      "outputs": [
        {
          "output_type": "stream",
          "name": "stdout",
          "text": [
            "Os pontos totais do Rodrigo são 24\n",
            "Os pontos totais do ana são 46\n",
            "Os pontos totais do ana e rodrigo são 70\n",
            "Os pontos totais do carlos são 56\n",
            "Os pontos totais do ana,carlos e rodrigo são 126\n"
          ]
        }
      ]
    },
    {
      "cell_type": "markdown",
      "source": [
        "aula 3 19/09"
      ],
      "metadata": {
        "id": "jAaUUPIdl384"
      }
    },
    {
      "cell_type": "code",
      "source": [
        "numero_de_alunos = int(input(\"Digite a quantidade de alunos: \"))\n",
        "numero_de_monitores = int(input(\"Digite a quantidade de monitores: \"))\n",
        "if numero_de_alunos + numero_de_monitores <= 50:\n",
        "  resposta_positiva = \"pode ir\"\n",
        "  resposta_negativa = \"não pode ir\"\n",
        "if numero_de_alunos + numero_de_monitores <= 50:\n",
        " print(resposta_positiva)\n",
        "else:\n",
        " print(resposta_negativa)"
      ],
      "metadata": {
        "colab": {
          "base_uri": "https://localhost:8080/"
        },
        "id": "FD8bB10gl7T5",
        "outputId": "93b37d57-9475-4d75-a52e-a4b789f24b91"
      },
      "execution_count": null,
      "outputs": [
        {
          "output_type": "stream",
          "name": "stdout",
          "text": [
            "Digite a quantidade de alunos: 4\n",
            "Digite a quantidade de monitores: 7\n",
            "pode ir\n"
          ]
        }
      ]
    },
    {
      "cell_type": "markdown",
      "source": [
        "Desafio"
      ],
      "metadata": {
        "id": "PZndxhDbv6zu"
      }
    },
    {
      "cell_type": "code",
      "source": [
        "quantidade_professores = 8\n",
        "numero_de_alunos = int(input(\"Digite a quantidade de alunos: \"))\n",
        "numero_de_monitores = int(input(\"Digite a quantidade de monitores: \"))\n",
        "if numero_de_alunos + numero_de_monitores + quantidade_professores <= 30:\n",
        "  resposta_positiva = \"pode ir\"\n",
        "  resposta_negativa = \"não pode ir\"\n",
        "if numero_de_alunos + numero_de_monitores + quantidade_professores <= 30:\n",
        "  print(resposta_positiva)\n",
        "else:\n",
        " print(resposta_negativa)"
      ],
      "metadata": {
        "colab": {
          "base_uri": "https://localhost:8080/"
        },
        "id": "KUrb_TAkr1h6",
        "outputId": "1afaa516-6634-4c14-9bc9-867a082aa91a"
      },
      "execution_count": null,
      "outputs": [
        {
          "output_type": "stream",
          "name": "stdout",
          "text": [
            "Digite a quantidade de alunos: 15\n",
            "Digite a quantidade de monitores: 8\n",
            "não pode ir\n"
          ]
        }
      ]
    },
    {
      "cell_type": "markdown",
      "source": [
        "aula 4 26/09"
      ],
      "metadata": {
        "id": "gViZ8ooHtErg"
      }
    },
    {
      "cell_type": "code",
      "source": [
        "P = int(input(\"Digite a posição da porta P (0 ou 1): \"))\n",
        "R = int(input(\"Digite a posição da porta R (0 ou 1): \"))\n",
        "if P == 0:\n",
        "    print(\"C\")\n",
        "elif R == 1:\n",
        "    print(\"A\")\n",
        "else:\n",
        "    print(\"B\")"
      ],
      "metadata": {
        "colab": {
          "base_uri": "https://localhost:8080/"
        },
        "id": "RbnsPOs7uAq5",
        "outputId": "f5e4e34c-6a9e-4fa5-8dc2-8a86c6d35066"
      },
      "execution_count": null,
      "outputs": [
        {
          "output_type": "stream",
          "name": "stdout",
          "text": [
            "Digite a posição da porta P (0 ou 1): 0\n",
            "Digite a posição da porta R (0 ou 1): 0\n",
            "C\n"
          ]
        }
      ]
    },
    {
      "cell_type": "code",
      "source": [
        "P = int(input(\"Digite a posição da porta P (0 ou 1): \"))\n",
        "R = int(input(\"Digite a posição da porta R (0 ou 1): \"))\n",
        "Q = int(input(\"Digite a posição da porta R (0 ou 1): \"))\n",
        "if P == 0:\n",
        "    print(\"C\")\n",
        "elif R == 1:\n",
        "    print(\"A\")\n",
        "else:\n",
        "    print(\"B\")\n",
        "if Q == 1:\n",
        "    print(\"D\")"
      ],
      "metadata": {
        "colab": {
          "base_uri": "https://localhost:8080/"
        },
        "id": "i1zU5OoYw_jC",
        "outputId": "e6b97dbc-f4ad-427b-bbec-e5c3b030be6f"
      },
      "execution_count": null,
      "outputs": [
        {
          "output_type": "stream",
          "name": "stdout",
          "text": [
            "Digite a posição da porta P (0 ou 1): 0\n",
            "Digite a posição da porta R (0 ou 1): 1\n",
            "Digite a posição da porta R (0 ou 1): 1\n",
            "C\n",
            "D\n"
          ]
        }
      ]
    },
    {
      "cell_type": "markdown",
      "source": [
        "aula 6"
      ],
      "metadata": {
        "id": "J_3ntFT7y9FJ"
      }
    },
    {
      "cell_type": "code",
      "source": [
        "def calcula_idade_maior(idade_monica, idade_filho1, idade_filho2):\n",
        "  idade_filho3 = idade_monica - idade_filho1 - idade_filho2\n",
        "  idade_maxima = max(idade_filho1, idade_filho2, idade_filho3)\n",
        "  return idade_filho3, idade_maxima\n"
      ],
      "metadata": {
        "id": "iiNekbvozeqC"
      },
      "execution_count": null,
      "outputs": []
    },
    {
      "cell_type": "markdown",
      "source": [
        "aula 7"
      ],
      "metadata": {
        "id": "3Tb5Dped7T7_"
      }
    },
    {
      "cell_type": "code",
      "source": [
        "."
      ],
      "metadata": {
        "id": "kPDFc4S68pH8"
      },
      "execution_count": null,
      "outputs": []
    },
    {
      "cell_type": "markdown",
      "source": [
        "aula 8 ⛽ 🏎"
      ],
      "metadata": {
        "id": "hXhLTqSix24R"
      }
    },
    {
      "cell_type": "code",
      "source": [
        "print (\"sou seu assistente virtual, \\n \")\n",
        "nome = input(\"digite eu nome:\")\n",
        "print(f\"Olá, {nome}. Qual é sua dúvida hoje?\")\n",
        "resposta = input(\"Qual o assunto que deseja tratar:Matemática , Python , Javascript \").lower()\n",
        "print(f\"Que bom, {nome}, vamos falar sobre {resposta}\")\n",
        "if resposta == \"python\"\n",
        " print(\"Python transforma tarefas complexas em código limpo e legível, acelerando a inovação de data science à inteligência artificial.\")\n",
        "elif resposta == \"matemática\":\n",
        " print(\"A Matemática é a gramática invisível pela qual o universo escreve seus segredos.\")\n",
        "elif resposta == \"javascript\":\n",
        " print(\"O JavaScript é o motor pulsante da web, que transforma páginas estáticas em experiências digitais interativas e aplicativos globais.\")\n",
        "else:\n",
        " print(\"Hum... isso é novidade pra mim não sei falar sobre esse assunto😵‍💫\")"
      ],
      "metadata": {
        "colab": {
          "base_uri": "https://localhost:8080/",
          "height": 106
        },
        "id": "FlVEZ3-7y_KA",
        "outputId": "c11baca2-e083-47ce-e46e-f07d193e6a58"
      },
      "execution_count": 12,
      "outputs": [
        {
          "output_type": "error",
          "ename": "SyntaxError",
          "evalue": "expected ':' (ipython-input-1434467295.py, line 6)",
          "traceback": [
            "\u001b[0;36m  File \u001b[0;32m\"/tmp/ipython-input-1434467295.py\"\u001b[0;36m, line \u001b[0;32m6\u001b[0m\n\u001b[0;31m    if resposta == \"python\"\u001b[0m\n\u001b[0m                           ^\u001b[0m\n\u001b[0;31mSyntaxError\u001b[0m\u001b[0;31m:\u001b[0m expected ':'\n"
          ]
        }
      ]
    }
  ]
}